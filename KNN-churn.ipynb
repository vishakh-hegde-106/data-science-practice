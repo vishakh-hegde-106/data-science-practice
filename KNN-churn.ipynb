{
 "cells": [
  {
   "cell_type": "code",
   "execution_count": 1,
   "id": "668233ac",
   "metadata": {},
   "outputs": [],
   "source": [
    "# performing linear algebra\n",
    "import numpy as np \n",
    "# data processing\n",
    "import pandas as pd\n",
    "# visualisation\n",
    "import matplotlib.pyplot as plt\n",
    "import seaborn as sns"
   ]
  },
  {
   "cell_type": "code",
   "execution_count": 2,
   "id": "8dd4484e",
   "metadata": {},
   "outputs": [],
   "source": [
    "df = pd.read_csv('C:/Users/Dell/Desktop/Even Semester 2023/II Semester/ `)\n"
   ]
  },
  {
   "cell_type": "code",
   "execution_count": 3,
   "id": "5577b48b",
   "metadata": {},
   "outputs": [
    {
     "name": "stdout",
     "output_type": "stream",
     "text": [
      "<class 'pandas.core.frame.DataFrame'>\n",
      "RangeIndex: 3150 entries, 0 to 3149\n",
      "Data columns (total 14 columns):\n",
      " #   Column                   Non-Null Count  Dtype  \n",
      "---  ------                   --------------  -----  \n",
      " 0   Call  Failure            3150 non-null   int64  \n",
      " 1   Complains                3150 non-null   int64  \n",
      " 2   Subscription  Length     3150 non-null   int64  \n",
      " 3   Charge  Amount           3150 non-null   int64  \n",
      " 4   Seconds of Use           3145 non-null   float64\n",
      " 5   Frequency of use         3150 non-null   int64  \n",
      " 6   Frequency of SMS         3145 non-null   float64\n",
      " 7   Distinct Called Numbers  3150 non-null   int64  \n",
      " 8   Age Group                3150 non-null   int64  \n",
      " 9   Tariff Plan              3150 non-null   int64  \n",
      " 10  Status                   3150 non-null   int64  \n",
      " 11  Age                      3150 non-null   int64  \n",
      " 12  Customer Value           3150 non-null   float64\n",
      " 13  Churn                    3150 non-null   int64  \n",
      "dtypes: float64(3), int64(11)\n",
      "memory usage: 344.7 KB\n"
     ]
    }
   ],
   "source": [
    "df.info()"
   ]
  },
  {
   "cell_type": "code",
   "execution_count": 205,
   "id": "064acbf4",
   "metadata": {},
   "outputs": [
    {
     "data": {
      "text/html": [
       "<div>\n",
       "<style scoped>\n",
       "    .dataframe tbody tr th:only-of-type {\n",
       "        vertical-align: middle;\n",
       "    }\n",
       "\n",
       "    .dataframe tbody tr th {\n",
       "        vertical-align: top;\n",
       "    }\n",
       "\n",
       "    .dataframe thead th {\n",
       "        text-align: right;\n",
       "    }\n",
       "</style>\n",
       "<table border=\"1\" class=\"dataframe\">\n",
       "  <thead>\n",
       "    <tr style=\"text-align: right;\">\n",
       "      <th></th>\n",
       "      <th>Call  Failure</th>\n",
       "      <th>Complains</th>\n",
       "      <th>Subscription  Length</th>\n",
       "      <th>Charge  Amount</th>\n",
       "      <th>Seconds of Use</th>\n",
       "      <th>Frequency of use</th>\n",
       "      <th>Frequency of SMS</th>\n",
       "      <th>Distinct Called Numbers</th>\n",
       "      <th>Age Group</th>\n",
       "      <th>Tariff Plan</th>\n",
       "      <th>Status</th>\n",
       "      <th>Age</th>\n",
       "      <th>Customer Value</th>\n",
       "      <th>Churn</th>\n",
       "    </tr>\n",
       "  </thead>\n",
       "  <tbody>\n",
       "    <tr>\n",
       "      <th>count</th>\n",
       "      <td>3150.000000</td>\n",
       "      <td>3150.000000</td>\n",
       "      <td>3150.000000</td>\n",
       "      <td>3150.000000</td>\n",
       "      <td>3145.000000</td>\n",
       "      <td>3150.000000</td>\n",
       "      <td>3145.000000</td>\n",
       "      <td>3150.000000</td>\n",
       "      <td>3150.000000</td>\n",
       "      <td>3150.000000</td>\n",
       "      <td>3150.000000</td>\n",
       "      <td>3150.000000</td>\n",
       "      <td>3150.000000</td>\n",
       "      <td>3150.000000</td>\n",
       "    </tr>\n",
       "    <tr>\n",
       "      <th>mean</th>\n",
       "      <td>7.627937</td>\n",
       "      <td>0.076508</td>\n",
       "      <td>32.541905</td>\n",
       "      <td>0.942857</td>\n",
       "      <td>4473.570429</td>\n",
       "      <td>69.460635</td>\n",
       "      <td>73.091574</td>\n",
       "      <td>23.509841</td>\n",
       "      <td>2.826032</td>\n",
       "      <td>1.077778</td>\n",
       "      <td>1.248254</td>\n",
       "      <td>30.998413</td>\n",
       "      <td>470.073030</td>\n",
       "      <td>0.160000</td>\n",
       "    </tr>\n",
       "    <tr>\n",
       "      <th>std</th>\n",
       "      <td>7.263886</td>\n",
       "      <td>0.265851</td>\n",
       "      <td>8.573482</td>\n",
       "      <td>1.521072</td>\n",
       "      <td>4197.779738</td>\n",
       "      <td>57.413308</td>\n",
       "      <td>112.178023</td>\n",
       "      <td>17.217337</td>\n",
       "      <td>0.892555</td>\n",
       "      <td>0.267864</td>\n",
       "      <td>0.432069</td>\n",
       "      <td>8.831095</td>\n",
       "      <td>516.195543</td>\n",
       "      <td>0.366664</td>\n",
       "    </tr>\n",
       "    <tr>\n",
       "      <th>min</th>\n",
       "      <td>0.000000</td>\n",
       "      <td>0.000000</td>\n",
       "      <td>3.000000</td>\n",
       "      <td>0.000000</td>\n",
       "      <td>0.000000</td>\n",
       "      <td>0.000000</td>\n",
       "      <td>0.000000</td>\n",
       "      <td>0.000000</td>\n",
       "      <td>1.000000</td>\n",
       "      <td>1.000000</td>\n",
       "      <td>1.000000</td>\n",
       "      <td>15.000000</td>\n",
       "      <td>0.000000</td>\n",
       "      <td>0.000000</td>\n",
       "    </tr>\n",
       "    <tr>\n",
       "      <th>25%</th>\n",
       "      <td>1.000000</td>\n",
       "      <td>0.000000</td>\n",
       "      <td>30.000000</td>\n",
       "      <td>0.000000</td>\n",
       "      <td>1400.000000</td>\n",
       "      <td>27.000000</td>\n",
       "      <td>6.000000</td>\n",
       "      <td>10.000000</td>\n",
       "      <td>2.000000</td>\n",
       "      <td>1.000000</td>\n",
       "      <td>1.000000</td>\n",
       "      <td>25.000000</td>\n",
       "      <td>113.740000</td>\n",
       "      <td>0.000000</td>\n",
       "    </tr>\n",
       "    <tr>\n",
       "      <th>50%</th>\n",
       "      <td>6.000000</td>\n",
       "      <td>0.000000</td>\n",
       "      <td>35.000000</td>\n",
       "      <td>0.000000</td>\n",
       "      <td>2990.000000</td>\n",
       "      <td>54.000000</td>\n",
       "      <td>21.000000</td>\n",
       "      <td>21.000000</td>\n",
       "      <td>3.000000</td>\n",
       "      <td>1.000000</td>\n",
       "      <td>1.000000</td>\n",
       "      <td>30.000000</td>\n",
       "      <td>228.365000</td>\n",
       "      <td>0.000000</td>\n",
       "    </tr>\n",
       "    <tr>\n",
       "      <th>75%</th>\n",
       "      <td>12.000000</td>\n",
       "      <td>0.000000</td>\n",
       "      <td>38.000000</td>\n",
       "      <td>1.000000</td>\n",
       "      <td>6473.000000</td>\n",
       "      <td>95.000000</td>\n",
       "      <td>87.000000</td>\n",
       "      <td>34.000000</td>\n",
       "      <td>3.000000</td>\n",
       "      <td>1.000000</td>\n",
       "      <td>1.000000</td>\n",
       "      <td>30.000000</td>\n",
       "      <td>787.230000</td>\n",
       "      <td>0.000000</td>\n",
       "    </tr>\n",
       "    <tr>\n",
       "      <th>max</th>\n",
       "      <td>36.000000</td>\n",
       "      <td>1.000000</td>\n",
       "      <td>47.000000</td>\n",
       "      <td>10.000000</td>\n",
       "      <td>17090.000000</td>\n",
       "      <td>255.000000</td>\n",
       "      <td>522.000000</td>\n",
       "      <td>97.000000</td>\n",
       "      <td>5.000000</td>\n",
       "      <td>2.000000</td>\n",
       "      <td>2.000000</td>\n",
       "      <td>55.000000</td>\n",
       "      <td>2165.280000</td>\n",
       "      <td>1.000000</td>\n",
       "    </tr>\n",
       "  </tbody>\n",
       "</table>\n",
       "</div>"
      ],
      "text/plain": [
       "       Call  Failure    Complains  Subscription  Length  Charge  Amount  \\\n",
       "count    3150.000000  3150.000000           3150.000000     3150.000000   \n",
       "mean        7.627937     0.076508             32.541905        0.942857   \n",
       "std         7.263886     0.265851              8.573482        1.521072   \n",
       "min         0.000000     0.000000              3.000000        0.000000   \n",
       "25%         1.000000     0.000000             30.000000        0.000000   \n",
       "50%         6.000000     0.000000             35.000000        0.000000   \n",
       "75%        12.000000     0.000000             38.000000        1.000000   \n",
       "max        36.000000     1.000000             47.000000       10.000000   \n",
       "\n",
       "       Seconds of Use  Frequency of use  Frequency of SMS  \\\n",
       "count     3145.000000       3150.000000       3145.000000   \n",
       "mean      4473.570429         69.460635         73.091574   \n",
       "std       4197.779738         57.413308        112.178023   \n",
       "min          0.000000          0.000000          0.000000   \n",
       "25%       1400.000000         27.000000          6.000000   \n",
       "50%       2990.000000         54.000000         21.000000   \n",
       "75%       6473.000000         95.000000         87.000000   \n",
       "max      17090.000000        255.000000        522.000000   \n",
       "\n",
       "       Distinct Called Numbers    Age Group  Tariff Plan       Status  \\\n",
       "count              3150.000000  3150.000000  3150.000000  3150.000000   \n",
       "mean                 23.509841     2.826032     1.077778     1.248254   \n",
       "std                  17.217337     0.892555     0.267864     0.432069   \n",
       "min                   0.000000     1.000000     1.000000     1.000000   \n",
       "25%                  10.000000     2.000000     1.000000     1.000000   \n",
       "50%                  21.000000     3.000000     1.000000     1.000000   \n",
       "75%                  34.000000     3.000000     1.000000     1.000000   \n",
       "max                  97.000000     5.000000     2.000000     2.000000   \n",
       "\n",
       "               Age  Customer Value        Churn  \n",
       "count  3150.000000     3150.000000  3150.000000  \n",
       "mean     30.998413      470.073030     0.160000  \n",
       "std       8.831095      516.195543     0.366664  \n",
       "min      15.000000        0.000000     0.000000  \n",
       "25%      25.000000      113.740000     0.000000  \n",
       "50%      30.000000      228.365000     0.000000  \n",
       "75%      30.000000      787.230000     0.000000  \n",
       "max      55.000000     2165.280000     1.000000  "
      ]
     },
     "execution_count": 205,
     "metadata": {},
     "output_type": "execute_result"
    }
   ],
   "source": [
    "# Data Understanding\n",
    "df.describe()"
   ]
  },
  {
   "cell_type": "code",
   "execution_count": 206,
   "id": "15ab53d2",
   "metadata": {},
   "outputs": [
    {
     "data": {
      "text/plain": [
       "Call  Failure              0\n",
       "Complains                  0\n",
       "Subscription  Length       0\n",
       "Charge  Amount             0\n",
       "Seconds of Use             5\n",
       "Frequency of use           0\n",
       "Frequency of SMS           5\n",
       "Distinct Called Numbers    0\n",
       "Age Group                  0\n",
       "Tariff Plan                0\n",
       "Status                     0\n",
       "Age                        0\n",
       "Customer Value             0\n",
       "Churn                      0\n",
       "dtype: int64"
      ]
     },
     "execution_count": 206,
     "metadata": {},
     "output_type": "execute_result"
    }
   ],
   "source": [
    "#dealing missing values\n",
    "df.isnull().sum()"
   ]
  },
  {
   "cell_type": "code",
   "execution_count": 207,
   "id": "90b44c8a",
   "metadata": {},
   "outputs": [],
   "source": [
    "#Replacing missing values with mean\n",
    "df['Seconds of Use'] = df['Seconds of Use'].fillna(df['Seconds of Use'].mean())\n",
    "df['Frequency of SMS'] = df['Frequency of SMS'].fillna(df['Frequency of SMS'].mean())"
   ]
  },
  {
   "cell_type": "code",
   "execution_count": 208,
   "id": "3e287ed9",
   "metadata": {},
   "outputs": [
    {
     "data": {
      "text/plain": [
       "Call  Failure              0\n",
       "Complains                  0\n",
       "Subscription  Length       0\n",
       "Charge  Amount             0\n",
       "Seconds of Use             0\n",
       "Frequency of use           0\n",
       "Frequency of SMS           0\n",
       "Distinct Called Numbers    0\n",
       "Age Group                  0\n",
       "Tariff Plan                0\n",
       "Status                     0\n",
       "Age                        0\n",
       "Customer Value             0\n",
       "Churn                      0\n",
       "dtype: int64"
      ]
     },
     "execution_count": 208,
     "metadata": {},
     "output_type": "execute_result"
    }
   ],
   "source": [
    "#verify missing values\n",
    "df.isnull().sum()"
   ]
  },
  {
   "cell_type": "code",
   "execution_count": null,
   "id": "32c1acd8",
   "metadata": {},
   "outputs": [],
   "source": []
  },
  {
   "cell_type": "code",
   "execution_count": 209,
   "id": "ef28a016",
   "metadata": {},
   "outputs": [
    {
     "data": {
      "text/plain": [
       "array([[0.00000e+00, 3.80000e+01, 0.00000e+00, ..., 3.00000e+01,\n",
       "        1.97640e+02, 1.00000e+00],\n",
       "       [0.00000e+00, 3.90000e+01, 0.00000e+00, ..., 2.50000e+01,\n",
       "        4.60350e+01, 1.00000e+00],\n",
       "       [0.00000e+00, 3.70000e+01, 0.00000e+00, ..., 3.00000e+01,\n",
       "        1.53652e+03, 1.00000e+00],\n",
       "       ...,\n",
       "       [0.00000e+00, 1.80000e+01, 4.00000e+00, ..., 3.00000e+01,\n",
       "        2.80320e+02, 0.00000e+00],\n",
       "       [0.00000e+00, 1.10000e+01, 2.00000e+00, ..., 3.00000e+01,\n",
       "        1.07764e+03, 0.00000e+00],\n",
       "       [1.00000e+00, 1.10000e+01, 2.00000e+00, ..., 3.00000e+01,\n",
       "        1.00680e+02, 1.00000e+00]])"
      ]
     },
     "execution_count": 209,
     "metadata": {},
     "output_type": "execute_result"
    }
   ],
   "source": [
    "#defining X and y variable\n",
    "X = np.array(df.iloc[0:, 1:])\n",
    "X"
   ]
  },
  {
   "cell_type": "code",
   "execution_count": 210,
   "id": "c7e97e7f",
   "metadata": {},
   "outputs": [],
   "source": [
    "y = np.array(df['Churn'])"
   ]
  },
  {
   "cell_type": "code",
   "execution_count": 211,
   "id": "5f3ebe0b",
   "metadata": {},
   "outputs": [
    {
     "data": {
      "text/plain": [
       "(3150, 13)"
      ]
     },
     "execution_count": 211,
     "metadata": {},
     "output_type": "execute_result"
    }
   ],
   "source": [
    "X.shape"
   ]
  },
  {
   "cell_type": "code",
   "execution_count": 212,
   "id": "601baafa",
   "metadata": {},
   "outputs": [
    {
     "data": {
      "text/plain": [
       "(3150,)"
      ]
     },
     "execution_count": 212,
     "metadata": {},
     "output_type": "execute_result"
    }
   ],
   "source": [
    "y.shape"
   ]
  },
  {
   "cell_type": "code",
   "execution_count": 213,
   "id": "eb911329",
   "metadata": {},
   "outputs": [],
   "source": [
    "# using training and test set \n",
    "from sklearn.model_selection import train_test_split\n",
    "X_train, X_test, y_train, y_test = train_test_split(\n",
    "    X, y, test_size = 0.20, random_state = 42)"
   ]
  },
  {
   "cell_type": "code",
   "execution_count": 214,
   "id": "54b10275",
   "metadata": {},
   "outputs": [
    {
     "data": {
      "text/plain": [
       "0.8428571428571429"
      ]
     },
     "execution_count": 214,
     "metadata": {},
     "output_type": "execute_result"
    }
   ],
   "source": [
    "from sklearn.neighbors import KNeighborsClassifier\n",
    "knn = KNeighborsClassifier(n_neighbors = 6)\n",
    "knn.fit(X_train, y_train)\n",
    "knn.score(X_test, y_test)"
   ]
  },
  {
   "cell_type": "code",
   "execution_count": 215,
   "id": "9b94ba7b",
   "metadata": {},
   "outputs": [
    {
     "data": {
      "image/png": "[encoded data removed]",
      "text/plain": [
       "<Figure size 640x480 with 2 Axes>"
      ]
     },
     "metadata": {},
     "output_type": "display_data"
    }
   ],
   "source": [
    "#Prediction on training data\n",
    "y_train_predict=knn.predict(X_train)\n",
    "#confusion matrix\n",
    "import seaborn as sns \n",
    "from sklearn.metrics import confusion_matrix\n",
    "from sklearn.metrics import precision_score, recall_score, f1_score\n",
    "classnames=['0','1']\n",
    "confusionmatrix=confusion_matrix(y_train,y_train_predict)\n",
    "sns.heatmap(confusionmatrix,annot=True,yticklabels=classnames,xticklabels=classnames,fmt='g',cmap=\"Greens\");"
   ]
  },
  {
   "cell_type": "code",
   "execution_count": 216,
   "id": "d5eb51ae",
   "metadata": {},
   "outputs": [
    {
     "name": "stdout",
     "output_type": "stream",
     "text": [
      "Accuracy: 0.8912698412698413\n",
      "Precision Score: 0.791\n",
      "Recall Score: 0.407\n",
      "F1 Score: 0.537\n"
     ]
    }
   ],
   "source": [
    "from sklearn import metrics\n",
    "print (\"Accuracy:\",metrics.accuracy_score(y_train,y_train_predict))\n",
    "print('Precision Score: %.3f' % precision_score(y_train,y_train_predict))\n",
    "print('Recall Score: %.3f' % recall_score(y_train,y_train_predict))\n",
    "print('F1 Score: %.3f' % f1_score(y_train,y_train_predict))\n"
   ]
  },
  {
   "cell_type": "code",
   "execution_count": 217,
   "id": "ef46cd9f",
   "metadata": {},
   "outputs": [
    {
     "data": {
      "image/png": "[encoded data removed]",
      "text/plain": [
       "<Figure size 640x480 with 2 Axes>"
      ]
     },
     "metadata": {},
     "output_type": "display_data"
    }
   ],
   "source": [
    "#Prediction on test data\n",
    "y_train_predict=knn.predict(X_test)\n",
    "#confusion matrix\n",
    "import seaborn as sns \n",
    "from sklearn.metrics import confusion_matrix\n",
    "classnames=['0','1']\n",
    "confusionmatrix=confusion_matrix(y_test,y_train_predict)\n",
    "sns.heatmap(confusionmatrix,annot=True,yticklabels=classnames,xticklabels=classnames,fmt='g',cmap=\"Greens\");"
   ]
  },
  {
   "cell_type": "code",
   "execution_count": 218,
   "id": "b9e629c1",
   "metadata": {},
   "outputs": [
    {
     "name": "stdout",
     "output_type": "stream",
     "text": [
      "Accuracy: 0.8428571428571429\n",
      "Precision Score: 0.635\n",
      "Recall Score: 0.292\n",
      "F1 Score: 0.400\n"
     ]
    }
   ],
   "source": [
    "from sklearn import metrics\n",
    "print (\"Accuracy:\",metrics.accuracy_score(y_test,y_train_predict))\n",
    "print('Precision Score: %.3f' % precision_score(y_test,y_train_predict))\n",
    "print('Recall Score: %.3f' % recall_score(y_test,y_train_predict))\n",
    "print('F1 Score: %.3f' % f1_score(y_test,y_train_predict))"
   ]
  },
  {
   "cell_type": "code",
   "execution_count": 219,
   "id": "2c30477b",
   "metadata": {},
   "outputs": [
    {
     "name": "stdout",
     "output_type": "stream",
     "text": [
      "0\n"
     ]
    }
   ],
   "source": [
    "# predict for a new data \n",
    "result = knn.predict([[0,38,0,4370.0,71,5.0,17,3,1,1,30,197.64,1]])\n",
    "if result == 1:\n",
    "        print (\"1\")\n",
    "else:\n",
    "        print (\"0\")"
   ]
  },
  {
   "cell_type": "code",
   "execution_count": null,
   "id": "575a9465",
   "metadata": {},
   "outputs": [],
   "source": []
  },
  {
   "cell_type": "code",
   "execution_count": null,
   "id": "2c6d1c46",
   "metadata": {},
   "outputs": [],
   "source": []
  }
 ],
 "metadata": {
  "kernelspec": {
   "display_name": "Python 3 (ipykernel)",
   "language": "python",
   "name": "python3"
  },
  "language_info": {
   "codemirror_mode": {
    "name": "ipython",
    "version": 3
   },
   "file_extension": ".py",
   "mimetype": "text/x-python",
   "name": "python",
   "nbconvert_exporter": "python",
   "pygments_lexer": "ipython3",
   "version": "3.10.6"
  }
 },
 "nbformat": 4,
 "nbformat_minor": 5
}
